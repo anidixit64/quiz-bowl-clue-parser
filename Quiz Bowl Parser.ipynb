{
 "cells": [
  {
   "cell_type": "code",
   "execution_count": 10,
   "id": "b8f3373b",
   "metadata": {},
   "outputs": [],
   "source": [
    "import warnings\n",
    "warnings.filterwarnings(\"ignore\", message=\".*AVX2 FMA.*\")\n",
    "\n",
    "import json\n",
    "import spacy\n",
    "from collections import Counter\n",
    "import os"
   ]
  },
  {
   "cell_type": "code",
   "execution_count": 15,
   "id": "0278b31a",
   "metadata": {
    "scrolled": false
   },
   "outputs": [
    {
     "name": "stdout",
     "output_type": "stream",
     "text": [
      "Enter a topic: symphonie fantastique\n",
      "Number of clues: 18\n",
      "\n",
      "\n",
      "\n",
      "Hector Berlioz: 100.00%\n",
      "\n",
      "Harriet Smithson: 60.00%\n",
      "\n",
      "Dream of a Witches’ Sabbath: 30.00%\n",
      "\n",
      "cor: 30.00%\n",
      "\n",
      "A Ball: 20.00%\n",
      "\n",
      "Scene in the Fields: 20.00%\n",
      "\n",
      "Thomas de Quincey’s: 10.00%\n",
      "\n",
      "Confessions of an Opium Eater: 10.00%\n",
      "\n",
      "the Latin Mass Dies Irae: 10.00%\n",
      "\n",
      "a \"Scene in the: 10.00%\n",
      "\n",
      "Fields: 10.00%\n",
      "\n",
      "the \"ranz des vaches: 10.00%\n",
      "\n",
      "Les Francs: 10.00%\n",
      "\n",
      "Reveries – Passions: 10.00%\n",
      "\n",
      "Dream of a Witches' Sabbath: 10.00%\n",
      "\n",
      "Messe solennelle: 10.00%\n",
      "\n",
      "Reveries - Passions: 10.00%\n",
      "\n",
      "RON de VASH: 10.00%\n"
     ]
    }
   ],
   "source": [
    "nlp = spacy.load('en_core_web_md')\n",
    "\n",
    "# Checks for existence of json with corresponding topic \n",
    "while True:\n",
    "    answer = input(\"Enter a topic: \")\n",
    "    json_find = answer.lower().replace(\" \", \"_\")\n",
    "    json_filename = os.path.join(\"json\", f\"{json_find}.json\")\n",
    "    \n",
    "    if os.path.exists(json_filename):\n",
    "        with open(json_filename, \"r\") as json_file:\n",
    "            data = json.load(json_file)\n",
    "        break\n",
    "    else:\n",
    "        print(f\"Error: '{answer}' data not available. Please try again.\")\n",
    "\n",
    "num = input('Number of clues: ')\n",
    "num = int(num)\n",
    "\n",
    "tossups = data['tossups']\n",
    "paragraph = \" \".join(tossup['question'] for tossup in tossups)\n",
    "doc = nlp(paragraph)\n",
    "\n",
    "specified_entities = [(ent.text, ent.label_) for ent in doc.ents if ent.label_ in ['PERSON', 'FAC', 'LOC', 'GPE', 'ORG', 'EVENT', 'WORK_OF_ART', 'LAW', 'PRODUCT']]\n",
    "entity_counter = Counter(specified_entities)\n",
    "total_questions = len(tossups)\n",
    "entity_percentages = {entity: count / total_questions * 100 for entity, count in entity_counter.items()}\n",
    "\n",
    "print('\\n')\n",
    "\n",
    "for entity, count in entity_counter.most_common(num):\n",
    "    entity_text, entity_label = entity\n",
    "    percentage = entity_percentages[entity]    \n",
    "    print(f\"\\n{entity_text}: {percentage:.2f}%\")"
   ]
  },
  {
   "cell_type": "code",
   "execution_count": null,
   "id": "e5db2b26",
   "metadata": {},
   "outputs": [],
   "source": []
  }
 ],
 "metadata": {
  "kernelspec": {
   "display_name": "MyEnv (Python 3.11)",
   "language": "python",
   "name": "myenv_kernel"
  },
  "language_info": {
   "codemirror_mode": {
    "name": "ipython",
    "version": 3
   },
   "file_extension": ".py",
   "mimetype": "text/x-python",
   "name": "python",
   "nbconvert_exporter": "python",
   "pygments_lexer": "ipython3",
   "version": "3.11.3"
  },
  "toc": {
   "base_numbering": 1,
   "nav_menu": {},
   "number_sections": true,
   "sideBar": true,
   "skip_h1_title": false,
   "title_cell": "Table of Contents",
   "title_sidebar": "Contents",
   "toc_cell": false,
   "toc_position": {},
   "toc_section_display": true,
   "toc_window_display": false
  }
 },
 "nbformat": 4,
 "nbformat_minor": 5
}
