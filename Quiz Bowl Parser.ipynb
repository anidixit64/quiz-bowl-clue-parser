{
 "cells": [
  {
   "cell_type": "code",
   "execution_count": 10,
   "id": "b8f3373b",
   "metadata": {},
   "outputs": [],
   "source": [
    "import warnings\n",
    "warnings.filterwarnings(\"ignore\", message=\".*AVX2 FMA.*\")\n",
    "\n",
    "import json\n",
    "import spacy\n",
    "from collections import Counter\n",
    "import os"
   ]
  },
  {
   "cell_type": "code",
   "execution_count": 11,
   "id": "0278b31a",
   "metadata": {
    "scrolled": true
   },
   "outputs": [
    {
     "name": "stdout",
     "output_type": "stream",
     "text": [
      "Enter a topic: geronimo\n",
      "Number of clues: 15\n",
      "\n",
      "\n",
      "\n",
      "Apache: 85.71%\n",
      "\n",
      "Nelson Miles: 71.43%\n",
      "\n",
      "Fort Sill: 57.14%\n",
      "\n",
      "Arizona: 42.86%\n",
      "\n",
      "Yale’s Skull and Bones: 28.57%\n",
      "\n",
      "Charles Gatewood: 28.57%\n",
      "\n",
      "Skeleton Canyon: 28.57%\n",
      "\n",
      "Coloradas: 28.57%\n",
      "\n",
      "Chiricahua: 28.57%\n",
      "\n",
      "New Mexico: 28.57%\n",
      "\n",
      "the San Carlos Reservation: 28.57%\n",
      "\n",
      "Skeleton Canyon: 28.57%\n",
      "\n",
      "Casa Grande: 28.57%\n",
      "\n",
      "the Robledo Mountains: 28.57%\n",
      "\n",
      "Prescott Bush: 14.29%\n"
     ]
    }
   ],
   "source": [
    "nlp = spacy.load('en_core_web_md')\n",
    "\n",
    "# Checks for existence of json with corresponding topic \n",
    "while True:\n",
    "    answer = input(\"Enter a topic: \")\n",
    "    json_find = answer.lower().replace(\" \", \"_\")\n",
    "    json_filename = os.path.join(\"json\", f\"{json_find}.json\")\n",
    "    \n",
    "    if os.path.exists(json_filename):\n",
    "        with open(json_filename, \"r\") as json_file:\n",
    "            data = json.load(json_file)\n",
    "        break\n",
    "    else:\n",
    "        print(f\"Error: '{answer}' data not available. Please try again.\")\n",
    "\n",
    "num = input('Number of clues: ')\n",
    "num = int(num)\n",
    "\n",
    "tossups = data['tossups']\n",
    "paragraph = \" \".join(tossup['question'] for tossup in tossups)\n",
    "doc = nlp(paragraph)\n",
    "\n",
    "specified_entities = [(ent.text, ent.label_) for ent in doc.ents if ent.label_ in ['PERSON', 'FAC', 'LOC', 'GPE', 'ORG', 'EVENT', 'WORK_OF_ART', 'LAW', 'PRODUCT']]\n",
    "entity_counter = Counter(specified_entities)\n",
    "total_questions = len(tossups)\n",
    "entity_percentages = {entity: count / total_questions * 100 for entity, count in entity_counter.items()}\n",
    "\n",
    "print('\\n')\n",
    "\n",
    "for entity, count in entity_counter.most_common(num):\n",
    "    entity_text, entity_label = entity\n",
    "    percentage = entity_percentages[entity]    \n",
    "    print(f\"\\n{entity_text}: {percentage:.2f}%\")"
   ]
  },
  {
   "cell_type": "code",
   "execution_count": null,
   "id": "e5db2b26",
   "metadata": {},
   "outputs": [],
   "source": []
  }
 ],
 "metadata": {
  "kernelspec": {
   "display_name": "MyEnv (Python 3.11)",
   "language": "python",
   "name": "myenv_kernel"
  },
  "language_info": {
   "codemirror_mode": {
    "name": "ipython",
    "version": 3
   },
   "file_extension": ".py",
   "mimetype": "text/x-python",
   "name": "python",
   "nbconvert_exporter": "python",
   "pygments_lexer": "ipython3",
   "version": "3.11.3"
  },
  "toc": {
   "base_numbering": 1,
   "nav_menu": {},
   "number_sections": true,
   "sideBar": true,
   "skip_h1_title": false,
   "title_cell": "Table of Contents",
   "title_sidebar": "Contents",
   "toc_cell": false,
   "toc_position": {},
   "toc_section_display": true,
   "toc_window_display": false
  }
 },
 "nbformat": 4,
 "nbformat_minor": 5
}
