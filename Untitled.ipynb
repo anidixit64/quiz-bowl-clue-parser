{
 "cells": [
  {
   "cell_type": "code",
   "execution_count": 2,
   "id": "b8f3373b",
   "metadata": {},
   "outputs": [],
   "source": [
    "import warnings\n",
    "warnings.filterwarnings(\"ignore\", message=\".*AVX2 FMA.*\")\n",
    "\n",
    "import json\n",
    "import spacy\n",
    "from collections import Counter\n",
    "import os"
   ]
  },
  {
   "cell_type": "code",
   "execution_count": 6,
   "id": "0278b31a",
   "metadata": {},
   "outputs": [
    {
     "name": "stdout",
     "output_type": "stream",
     "text": [
      "Enter a phrase: geronimo\n",
      "How many answers?\n",
      "\n",
      "15\n",
      "\n",
      "Apache (PRODUCT): 85.71%\n",
      "\n",
      "Nelson Miles (PERSON): 71.43%\n",
      "\n",
      "Arizona (GPE): 42.86%\n",
      "\n",
      "Skeleton Canyon (LOC): 42.86%\n",
      "\n",
      "Fort Sill (FAC): 42.86%\n",
      "\n",
      "Yale (ORG): 28.57%\n",
      "\n",
      "Bones (ORG): 28.57%\n",
      "\n",
      "Fort Sill (GPE): 28.57%\n",
      "\n",
      "Charles Gatewood (PERSON): 28.57%\n",
      "\n",
      "Mangas Coloradas (PERSON): 28.57%\n",
      "\n",
      "New Mexico (GPE): 28.57%\n",
      "\n",
      "Casa Grande (ORG): 28.57%\n",
      "\n",
      "the Robledo Mountains (LOC): 28.57%\n",
      "\n",
      "Prescott Bush (PERSON): 14.29%\n",
      "\n",
      "Wyatt Earp (PERSON): 14.29%\n"
     ]
    }
   ],
   "source": [
    "while True:\n",
    "    phrase = input(\"Enter a phrase: \").lower().replace(\" \", \"_\")\n",
    "    json_filename = os.path.join(\"json\", f\"{phrase}.json\")\n",
    "    \n",
    "    if os.path.exists(json_filename):\n",
    "        with open(json_filename, \"r\") as json_file:\n",
    "            data = json.load(json_file)\n",
    "            # Work with the data in the JSON here\n",
    "            \n",
    "        break\n",
    "    else:\n",
    "        print(f\"Error: {json_filename} not found. Please try again.\")\n",
    "\n",
    "# Load the JSON data from the file\n",
    "\n",
    "num = input('How many answers?\\n\\n')\n",
    "num = int(num)\n",
    "\n",
    "# Load the spaCy English NER model\n",
    "nlp = spacy.load('en_core_web_sm')\n",
    "\n",
    "# Extract the 'tossups' from the JSON data\n",
    "tossups = data['tossups']\n",
    "\n",
    "# Join the 'question' texts from all tossups into a single paragraph\n",
    "paragraph = \" \".join(tossup['question'] for tossup in tossups)\n",
    "\n",
    "# Process the paragraph with spaCy NER\n",
    "doc = nlp(paragraph)\n",
    "\n",
    "# Filter and extract specified entity types\n",
    "specified_entities = [(ent.text, ent.label_) for ent in doc.ents if ent.label_ in ['PERSON', 'FAC', 'LOC', 'GPE', 'ORG', 'EVENT', 'WORK_OF_ART', 'LAW', 'PRODUCT']]\n",
    "\n",
    "# Count the occurrences of each specified entity\n",
    "entity_counter = Counter(specified_entities)\n",
    "\n",
    "# Calculate the total number of questions\n",
    "total_questions = len(tossups)\n",
    "\n",
    "# Calculate the percentage of occurrence for each entity\n",
    "entity_percentages = {entity: count / total_questions * 100 for entity, count in entity_counter.items()}\n",
    "\n",
    "# Print the 10 most common specified entities in descending order of percentage\n",
    "for entity, count in entity_counter.most_common(num):\n",
    "    entity_text, entity_label = entity\n",
    "    percentage = entity_percentages[entity]    \n",
    "    print(f\"\\n{entity_text} ({entity_label}): {percentage:.2f}%\")\n"
   ]
  },
  {
   "cell_type": "code",
   "execution_count": null,
   "id": "e5db2b26",
   "metadata": {},
   "outputs": [],
   "source": []
  }
 ],
 "metadata": {
  "kernelspec": {
   "display_name": "MyEnv (Python 3.11)",
   "language": "python",
   "name": "myenv_kernel"
  },
  "language_info": {
   "codemirror_mode": {
    "name": "ipython",
    "version": 3
   },
   "file_extension": ".py",
   "mimetype": "text/x-python",
   "name": "python",
   "nbconvert_exporter": "python",
   "pygments_lexer": "ipython3",
   "version": "3.11.3"
  },
  "toc": {
   "base_numbering": 1,
   "nav_menu": {},
   "number_sections": true,
   "sideBar": true,
   "skip_h1_title": false,
   "title_cell": "Table of Contents",
   "title_sidebar": "Contents",
   "toc_cell": false,
   "toc_position": {},
   "toc_section_display": true,
   "toc_window_display": false
  }
 },
 "nbformat": 4,
 "nbformat_minor": 5
}
