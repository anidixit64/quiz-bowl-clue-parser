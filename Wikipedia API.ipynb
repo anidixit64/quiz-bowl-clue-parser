{
 "cells": [
  {
   "cell_type": "code",
   "execution_count": 3,
   "id": "2afba391",
   "metadata": {},
   "outputs": [],
   "source": [
    "import wikipedia\n",
    "import wikipediaapi\n",
    "import spacy\n",
    "from collections import Counter\n",
    "nlp = spacy.load('en_core_web_md')\n",
    "user_agent = \"QuizBowlPractice/1.0 (ani.aniketdixit_00@yahoo.com)\"\n",
    "wiki_wiki = wikipediaapi.Wikipedia(\n",
    "    language='en', extract_format= wikipediaapi.ExtractFormat.WIKI, user_agent = user_agent)"
   ]
  },
  {
   "cell_type": "code",
   "execution_count": 6,
   "id": "9f7eee91",
   "metadata": {},
   "outputs": [],
   "source": [
    "def run_page(term):\n",
    "    page = wiki_wiki.page(term)\n",
    "    \n",
    "    if page.exists():\n",
    "        if 'may refer to:' in page.text:\n",
    "            results = []\n",
    "            for l in page.links.values():\n",
    "                results.append(l.title)\n",
    "            \n",
    "            counts = {}\n",
    "            for r in results:\n",
    "                result_text = wiki_wiki.page(r).text\n",
    "                count = result_text.count(term)\n",
    "                counts[r] = count\n",
    "                \n",
    "            sorted_counts = sorted(counts.items(), key = lambda x:x[1], reverse=True)\n",
    "            print(sorted_counts)\n",
    "            \n",
    "            page "
   ]
  },
  {
   "cell_type": "code",
   "execution_count": 7,
   "id": "e113cdb7",
   "metadata": {},
   "outputs": [
    {
     "name": "stdout",
     "output_type": "stream",
     "text": [
      "Enter term 2: marathi\n",
      "[('Marathi language', 184), ('Marathi people', 146), ('Balbodh', 17), ('Maharashtrian cuisine', 16), ('Marathi people (Uttar Pradesh)', 5), ('Maharashtrian (disambiguation)', 3), ('Maratha (disambiguation)', 2), ('Palaiosouda', 2), ('Talk:Marathi', 1), ('Help:Disambiguation', 0)]\n"
     ]
    }
   ],
   "source": [
    "#term_1 = input(\"Enter term 1: \").title()\n",
    "term_2 = input(\"Enter term 2: \").title()\n",
    "\n",
    "#wiki_1 = wiki_wiki.page(term_1).text\n",
    "wiki_2 = wiki_wiki.page(term_2).text\n",
    "\n",
    "#run_page(term_1)\n",
    "run_page(term_2)"
   ]
  },
  {
   "cell_type": "code",
   "execution_count": null,
   "id": "fff3e755",
   "metadata": {},
   "outputs": [],
   "source": []
  }
 ],
 "metadata": {
  "kernelspec": {
   "display_name": "MyEnv (Python 3.11)",
   "language": "python",
   "name": "myenv_kernel"
  },
  "language_info": {
   "codemirror_mode": {
    "name": "ipython",
    "version": 3
   },
   "file_extension": ".py",
   "mimetype": "text/x-python",
   "name": "python",
   "nbconvert_exporter": "python",
   "pygments_lexer": "ipython3",
   "version": "3.11.3"
  },
  "toc": {
   "base_numbering": 1,
   "nav_menu": {},
   "number_sections": true,
   "sideBar": true,
   "skip_h1_title": false,
   "title_cell": "Table of Contents",
   "title_sidebar": "Contents",
   "toc_cell": false,
   "toc_position": {},
   "toc_section_display": true,
   "toc_window_display": false
  }
 },
 "nbformat": 4,
 "nbformat_minor": 5
}
